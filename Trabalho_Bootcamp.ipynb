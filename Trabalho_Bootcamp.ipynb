{
  "nbformat": 4,
  "nbformat_minor": 0,
  "metadata": {
    "colab": {
      "name": "Trabalho_Bootcamp.ipynb",
      "provenance": [],
      "collapsed_sections": [],
      "machine_shape": "hm"
    },
    "kernelspec": {
      "name": "python3",
      "display_name": "Python 3"
    }
  },
  "cells": [
    {
      "cell_type": "code",
      "metadata": {
        "id": "De4YPJjlA2Am",
        "colab_type": "code",
        "outputId": "cc8a7d52-1d89-4684-8bd0-4863917ca3c1",
        "colab": {
          "base_uri": "https://localhost:8080/",
          "height": 34
        }
      },
      "source": [
        "from google.colab import drive\n",
        "import os\n",
        "import pandas as pd\n",
        "import seaborn as sns\n",
        "drive.mount('/fiap_mba_ia')\n",
        "import numpy as np\n",
        "import re\n",
        "from sklearn import preprocessing\n",
        "from scipy.cluster.hierarchy import dendrogram\n",
        "from sklearn.datasets import load_iris\n",
        "from sklearn.cluster import AgglomerativeClustering\n",
        "from matplotlib import pyplot as plt\n",
        "import pickle\n",
        "\n",
        "from sklearn.tree import DecisionTreeClassifier\n",
        "from sklearn.model_selection import train_test_split\n",
        "from sklearn import metrics\n",
        "from sklearn import tree\n",
        "\n",
        "from sklearn.metrics import confusion_matrix"
      ],
      "execution_count": 0,
      "outputs": [
        {
          "output_type": "stream",
          "text": [
            "Drive already mounted at /fiap_mba_ia; to attempt to forcibly remount, call drive.mount(\"/fiap_mba_ia\", force_remount=True).\n"
          ],
          "name": "stdout"
        }
      ]
    },
    {
      "cell_type": "code",
      "metadata": {
        "id": "YkPrcvM1CMcp",
        "colab_type": "code",
        "colab": {}
      },
      "source": [
        "##mudando para o drive correto\n",
        "os.chdir('/fiap_mba_ia')\n",
        "os.chdir('My Drive/fiap_mba_ia')"
      ],
      "execution_count": 0,
      "outputs": []
    },
    {
      "cell_type": "code",
      "metadata": {
        "id": "WncNuiPaBC6K",
        "colab_type": "code",
        "colab": {}
      },
      "source": [
        "#### leitura dos datasets\n",
        "\n",
        "df_Cliente_raw = pd.read_csv('FIAP Dataset 1.csv', encoding='utf8')\n",
        "df_Navegacao_raw = pd.read_csv('Dataset-2.csv', encoding='utf8')\n",
        "df_Catalogo_raw = pd.read_csv('Dataset-3.csv', encoding='utf8')"
      ],
      "execution_count": 0,
      "outputs": []
    },
    {
      "cell_type": "code",
      "metadata": {
        "id": "GcFv1JB4L8Zy",
        "colab_type": "code",
        "outputId": "682eccaa-bea1-4c0c-d795-e3fd5bad346a",
        "colab": {
          "base_uri": "https://localhost:8080/",
          "height": 68
        }
      },
      "source": [
        "### tamanho dos dataframes\n",
        "\n",
        "print(df_Cliente_raw.shape)\n",
        "print(df_Navegacao_raw.shape)\n",
        "print(df_Catalogo_raw.shape)"
      ],
      "execution_count": 0,
      "outputs": [
        {
          "output_type": "stream",
          "text": [
            "(52857, 60)\n",
            "(382937, 4)\n",
            "(8603, 86)\n"
          ],
          "name": "stdout"
        }
      ]
    },
    {
      "cell_type": "code",
      "metadata": {
        "id": "Abl3jUeVMtkC",
        "colab_type": "code",
        "outputId": "a378caa6-e093-42be-ff61-9ea4b9e1b007",
        "colab": {
          "base_uri": "https://localhost:8080/",
          "height": 409
        }
      },
      "source": [
        "## analisando total de nulos cliente\n",
        "graf = sns.heatmap(df_Cliente_raw.isnull(), cbar=False)\n",
        "graf.set_title('Nulos em cliente')"
      ],
      "execution_count": 0,
      "outputs": [
        {
          "output_type": "execute_result",
          "data": {
            "text/plain": [
              "Text(0.5, 1.0, 'Nulos em cliente')"
            ]
          },
          "metadata": {
            "tags": []
          },
          "execution_count": 5
        },
        {
          "output_type": "display_data",
          "data": {
            "image/png": "[encoded data removed]",
            "text/plain": [
              "<Figure size 432x288 with 1 Axes>"
            ]
          },
          "metadata": {
            "tags": []
          }
        }
      ]
    },
    {
      "cell_type": "code",
      "metadata": {
        "id": "9D-G1UklM08T",
        "colab_type": "code",
        "outputId": "896d92d5-bd7c-41ad-c7dc-2012865bb548",
        "colab": {
          "base_uri": "https://localhost:8080/",
          "height": 299
        }
      },
      "source": [
        "graf = sns.heatmap(df_Navegacao_raw.isnull(), cbar=False)\n",
        "graf.set_title('Nulos em Navegacao')"
      ],
      "execution_count": 0,
      "outputs": [
        {
          "output_type": "execute_result",
          "data": {
            "text/plain": [
              "Text(0.5, 1.0, 'Nulos em Navegacao')"
            ]
          },
          "metadata": {
            "tags": []
          },
          "execution_count": 6
        },
        {
          "output_type": "display_data",
          "data": {
            "image/png": "[encoded data removed]",
            "text/plain": [
              "<Figure size 432x288 with 1 Axes>"
            ]
          },
          "metadata": {
            "tags": []
          }
        }
      ]
    },
    {
      "cell_type": "code",
      "metadata": {
        "id": "ttDytJ6oM6Gl",
        "colab_type": "code",
        "outputId": "676b2601-a351-4a6c-cfcd-c2a64e13fab7",
        "colab": {
          "base_uri": "https://localhost:8080/",
          "height": 486
        }
      },
      "source": [
        "graf = sns.heatmap(df_Catalogo_raw.isnull(), cbar=False)\n",
        "graf.set_title('Nulos em Catalogo')"
      ],
      "execution_count": 0,
      "outputs": [
        {
          "output_type": "execute_result",
          "data": {
            "text/plain": [
              "Text(0.5, 1.0, 'Nulos em Catalogo')"
            ]
          },
          "metadata": {
            "tags": []
          },
          "execution_count": 7
        },
        {
          "output_type": "display_data",
          "data": {
            "image/png": "[encoded data removed]",
            "text/plain": [
              "<Figure size 432x288 with 1 Axes>"
            ]
          },
          "metadata": {
            "tags": []
          }
        }
      ]
    },
    {
      "cell_type": "code",
      "metadata": {
        "id": "8OJ9UgjKSQuq",
        "colab_type": "code",
        "outputId": "6774316f-7eb4-44f8-b58d-e765441d8401",
        "colab": {
          "base_uri": "https://localhost:8080/",
          "height": 34
        }
      },
      "source": [
        "df_cliente_produto = pd.merge(df_Cliente_raw, df_Catalogo_raw, how='left', left_on='produto', right_on='ProdutoId')\n",
        "df_cliente_produto.shape"
      ],
      "execution_count": 0,
      "outputs": [
        {
          "output_type": "execute_result",
          "data": {
            "text/plain": [
              "(52857, 146)"
            ]
          },
          "metadata": {
            "tags": []
          },
          "execution_count": 8
        }
      ]
    },
    {
      "cell_type": "code",
      "metadata": {
        "id": "85bU267EgFJN",
        "colab_type": "code",
        "outputId": "5d7c000d-0cd2-4353-fa51-05c9dd477742",
        "colab": {
          "base_uri": "https://localhost:8080/",
          "height": 450
        }
      },
      "source": [
        "df_Navegacao_raw.groupby(['Id']).count()"
      ],
      "execution_count": 0,
      "outputs": [
        {
          "output_type": "execute_result",
          "data": {
            "text/html": [
              "<div>\n",
              "<style scoped>\n",
              "    .dataframe tbody tr th:only-of-type {\n",
              "        vertical-align: middle;\n",
              "    }\n",
              "\n",
              "    .dataframe tbody tr th {\n",
              "        vertical-align: top;\n",
              "    }\n",
              "\n",
              "    .dataframe thead th {\n",
              "        text-align: right;\n",
              "    }\n",
              "</style>\n",
              "<table border=\"1\" class=\"dataframe\">\n",
              "  <thead>\n",
              "    <tr style=\"text-align: right;\">\n",
              "      <th></th>\n",
              "      <th>Unnamed: 0</th>\n",
              "      <th>page_path</th>\n",
              "      <th>pageviews</th>\n",
              "    </tr>\n",
              "    <tr>\n",
              "      <th>Id</th>\n",
              "      <th></th>\n",
              "      <th></th>\n",
              "      <th></th>\n",
              "    </tr>\n",
              "  </thead>\n",
              "  <tbody>\n",
              "    <tr>\n",
              "      <th>$2b$10$.DCvvJ9WSDpqVP2xXjeSPe..Fx6NhsrK9ZzYadqLqCW.2eZGk5deO</th>\n",
              "      <td>10</td>\n",
              "      <td>10</td>\n",
              "      <td>10</td>\n",
              "    </tr>\n",
              "    <tr>\n",
              "      <th>$2b$10$.DCvvJ9WSDpqVP2xXjeSPe..kI2Jy5NBFp0bWHGhmx/IyYNI1OYWK</th>\n",
              "      <td>5</td>\n",
              "      <td>5</td>\n",
              "      <td>5</td>\n",
              "    </tr>\n",
              "    <tr>\n",
              "      <th>$2b$10$.DCvvJ9WSDpqVP2xXjeSPe./RaD5ilKiZI.7HikaJK79StZZerIWS</th>\n",
              "      <td>6</td>\n",
              "      <td>6</td>\n",
              "      <td>6</td>\n",
              "    </tr>\n",
              "    <tr>\n",
              "      <th>$2b$10$.DCvvJ9WSDpqVP2xXjeSPe./VfMzqzrDosESSEWIeUhRXCRi4HFi2</th>\n",
              "      <td>7</td>\n",
              "      <td>7</td>\n",
              "      <td>7</td>\n",
              "    </tr>\n",
              "    <tr>\n",
              "      <th>$2b$10$.DCvvJ9WSDpqVP2xXjeSPe./h2nCG51DS8AEwV8jlT.DxtnyZth9W</th>\n",
              "      <td>8</td>\n",
              "      <td>8</td>\n",
              "      <td>8</td>\n",
              "    </tr>\n",
              "    <tr>\n",
              "      <th>...</th>\n",
              "      <td>...</td>\n",
              "      <td>...</td>\n",
              "      <td>...</td>\n",
              "    </tr>\n",
              "    <tr>\n",
              "      <th>$2b$10$.DCvvJ9WSDpqVP2xXjeSPezy43dzByBFK4pCz0EDtB3yrDM.nRkAi</th>\n",
              "      <td>5</td>\n",
              "      <td>5</td>\n",
              "      <td>5</td>\n",
              "    </tr>\n",
              "    <tr>\n",
              "      <th>$2b$10$.DCvvJ9WSDpqVP2xXjeSPezyeSd2gKNN93Cst3RneLLTpUqwJ8mxi</th>\n",
              "      <td>6</td>\n",
              "      <td>6</td>\n",
              "      <td>6</td>\n",
              "    </tr>\n",
              "    <tr>\n",
              "      <th>$2b$10$.DCvvJ9WSDpqVP2xXjeSPezyjwuCA54Wfbul7aMnK05rj6SWqw.pu</th>\n",
              "      <td>9</td>\n",
              "      <td>9</td>\n",
              "      <td>9</td>\n",
              "    </tr>\n",
              "    <tr>\n",
              "      <th>$2b$10$.DCvvJ9WSDpqVP2xXjeSPezzcMs1mEQlySS8KUOhrirngoKGzoD7q</th>\n",
              "      <td>4</td>\n",
              "      <td>4</td>\n",
              "      <td>4</td>\n",
              "    </tr>\n",
              "    <tr>\n",
              "      <th>$2b$10$.DCvvJ9WSDpqVP2xXjeSPezzttIBRwey7HP2/F/.9JBxUTYfSMKOO</th>\n",
              "      <td>9</td>\n",
              "      <td>9</td>\n",
              "      <td>9</td>\n",
              "    </tr>\n",
              "  </tbody>\n",
              "</table>\n",
              "<p>13257 rows × 3 columns</p>\n",
              "</div>"
            ],
            "text/plain": [
              "                                                    Unnamed: 0  ...  pageviews\n",
              "Id                                                              ...           \n",
              "$2b$10$.DCvvJ9WSDpqVP2xXjeSPe..Fx6NhsrK9ZzYadqL...          10  ...         10\n",
              "$2b$10$.DCvvJ9WSDpqVP2xXjeSPe..kI2Jy5NBFp0bWHGh...           5  ...          5\n",
              "$2b$10$.DCvvJ9WSDpqVP2xXjeSPe./RaD5ilKiZI.7Hika...           6  ...          6\n",
              "$2b$10$.DCvvJ9WSDpqVP2xXjeSPe./VfMzqzrDosESSEWI...           7  ...          7\n",
              "$2b$10$.DCvvJ9WSDpqVP2xXjeSPe./h2nCG51DS8AEwV8j...           8  ...          8\n",
              "...                                                        ...  ...        ...\n",
              "$2b$10$.DCvvJ9WSDpqVP2xXjeSPezy43dzByBFK4pCz0ED...           5  ...          5\n",
              "$2b$10$.DCvvJ9WSDpqVP2xXjeSPezyeSd2gKNN93Cst3Rn...           6  ...          6\n",
              "$2b$10$.DCvvJ9WSDpqVP2xXjeSPezyjwuCA54Wfbul7aMn...           9  ...          9\n",
              "$2b$10$.DCvvJ9WSDpqVP2xXjeSPezzcMs1mEQlySS8KUOh...           4  ...          4\n",
              "$2b$10$.DCvvJ9WSDpqVP2xXjeSPezzttIBRwey7HP2/F/....           9  ...          9\n",
              "\n",
              "[13257 rows x 3 columns]"
            ]
          },
          "metadata": {
            "tags": []
          },
          "execution_count": 9
        }
      ]
    },
    {
      "cell_type": "code",
      "metadata": {
        "id": "_IuXrFTEg4qh",
        "colab_type": "code",
        "outputId": "5bb70190-2368-4e09-c5ba-7da800493c76",
        "colab": {
          "base_uri": "https://localhost:8080/",
          "height": 34
        }
      },
      "source": [
        "df_Navegacao_stage = df_Navegacao_raw.dropna()\n",
        "df_Navegacao_stage.shape"
      ],
      "execution_count": 0,
      "outputs": [
        {
          "output_type": "execute_result",
          "data": {
            "text/plain": [
              "(102233, 4)"
            ]
          },
          "metadata": {
            "tags": []
          },
          "execution_count": 10
        }
      ]
    },
    {
      "cell_type": "code",
      "metadata": {
        "id": "n3T9mQxpjD5F",
        "colab_type": "code",
        "outputId": "b7b90adb-6eec-44b8-9ff3-72711489cd96",
        "colab": {
          "base_uri": "https://localhost:8080/",
          "height": 306
        }
      },
      "source": [
        "prog = re.compile('[0-9a-zA-Z]{18}')\n",
        "\n",
        "def ExtraiProdutos(x):\n",
        "  \"\"\"Extrai o produto do page_path\"\"\"\n",
        "  f = re.search(prog, x)\n",
        "  if f:\n",
        "      return f.group().strip()\n",
        "  else:\n",
        "      return 'Sem Produto'\n",
        "df_Navegacao_stage['ProdutoId'] = [ExtraiProdutos(x) for x in df_Navegacao_stage['page_path']]\n",
        "\n",
        "df_Navegacao_stage.head()"
      ],
      "execution_count": 0,
      "outputs": [
        {
          "output_type": "stream",
          "text": [
            "/usr/local/lib/python3.6/dist-packages/ipykernel_launcher.py:10: SettingWithCopyWarning: \n",
            "A value is trying to be set on a copy of a slice from a DataFrame.\n",
            "Try using .loc[row_indexer,col_indexer] = value instead\n",
            "\n",
            "See the caveats in the documentation: http://pandas.pydata.org/pandas-docs/stable/user_guide/indexing.html#returning-a-view-versus-a-copy\n",
            "  # Remove the CWD from sys.path while we load stuff.\n"
          ],
          "name": "stderr"
        },
        {
          "output_type": "execute_result",
          "data": {
            "text/html": [
              "<div>\n",
              "<style scoped>\n",
              "    .dataframe tbody tr th:only-of-type {\n",
              "        vertical-align: middle;\n",
              "    }\n",
              "\n",
              "    .dataframe tbody tr th {\n",
              "        vertical-align: top;\n",
              "    }\n",
              "\n",
              "    .dataframe thead th {\n",
              "        text-align: right;\n",
              "    }\n",
              "</style>\n",
              "<table border=\"1\" class=\"dataframe\">\n",
              "  <thead>\n",
              "    <tr style=\"text-align: right;\">\n",
              "      <th></th>\n",
              "      <th>Unnamed: 0</th>\n",
              "      <th>Id</th>\n",
              "      <th>page_path</th>\n",
              "      <th>pageviews</th>\n",
              "      <th>ProdutoId</th>\n",
              "    </tr>\n",
              "  </thead>\n",
              "  <tbody>\n",
              "    <tr>\n",
              "      <th>23</th>\n",
              "      <td>23</td>\n",
              "      <td>$2b$10$.DCvvJ9WSDpqVP2xXjeSPeMrZPoxq911ZU5Z.1c...</td>\n",
              "      <td>/s/</td>\n",
              "      <td>14</td>\n",
              "      <td>Sem Produto</td>\n",
              "    </tr>\n",
              "    <tr>\n",
              "      <th>24</th>\n",
              "      <td>24</td>\n",
              "      <td>$2b$10$.DCvvJ9WSDpqVP2xXjeSPeMrZPoxq911ZU5Z.1c...</td>\n",
              "      <td>/s/historico</td>\n",
              "      <td>0</td>\n",
              "      <td>Sem Produto</td>\n",
              "    </tr>\n",
              "    <tr>\n",
              "      <th>25</th>\n",
              "      <td>25</td>\n",
              "      <td>$2b$10$.DCvvJ9WSDpqVP2xXjeSPeMrZPoxq911ZU5Z.1c...</td>\n",
              "      <td>/s/produtos/a0W6A000008FwYQUA0/SAM JURO REAL R...</td>\n",
              "      <td>0</td>\n",
              "      <td>a0W6A000008FwYQUA0</td>\n",
              "    </tr>\n",
              "    <tr>\n",
              "      <th>26</th>\n",
              "      <td>26</td>\n",
              "      <td>$2b$10$.DCvvJ9WSDpqVP2xXjeSPeMrZPoxq911ZU5Z.1c...</td>\n",
              "      <td>/s/produtosprincipal</td>\n",
              "      <td>13</td>\n",
              "      <td>Sem Produto</td>\n",
              "    </tr>\n",
              "    <tr>\n",
              "      <th>27</th>\n",
              "      <td>27</td>\n",
              "      <td>$2b$10$.DCvvJ9WSDpqVP2xXjeSPeMrZPoxq911ZU5Z.1c...</td>\n",
              "      <td>/s/vitrine?secao=maisBuscados</td>\n",
              "      <td>1</td>\n",
              "      <td>Sem Produto</td>\n",
              "    </tr>\n",
              "  </tbody>\n",
              "</table>\n",
              "</div>"
            ],
            "text/plain": [
              "    Unnamed: 0  ...           ProdutoId\n",
              "23          23  ...         Sem Produto\n",
              "24          24  ...         Sem Produto\n",
              "25          25  ...  a0W6A000008FwYQUA0\n",
              "26          26  ...         Sem Produto\n",
              "27          27  ...         Sem Produto\n",
              "\n",
              "[5 rows x 5 columns]"
            ]
          },
          "metadata": {
            "tags": []
          },
          "execution_count": 11
        }
      ]
    },
    {
      "cell_type": "code",
      "metadata": {
        "id": "IevLKqI7zeoe",
        "colab_type": "code",
        "outputId": "b8e361c0-3ad0-4e07-866d-1801952c199d",
        "colab": {
          "base_uri": "https://localhost:8080/",
          "height": 235
        }
      },
      "source": [
        "### Cria uma tabela com o total de Pageviews dela por produto ID\n",
        "df_Navegacao_produto = df_Navegacao_stage[['ProdutoId','pageviews']].groupby(['ProdutoId']).sum(axis=1)\n",
        "df_Navegacao_produto.head(50)\n",
        "df_Navegacao_produto.sort_values(by=['pageviews'], ascending=False).head()"
      ],
      "execution_count": 0,
      "outputs": [
        {
          "output_type": "execute_result",
          "data": {
            "text/html": [
              "<div>\n",
              "<style scoped>\n",
              "    .dataframe tbody tr th:only-of-type {\n",
              "        vertical-align: middle;\n",
              "    }\n",
              "\n",
              "    .dataframe tbody tr th {\n",
              "        vertical-align: top;\n",
              "    }\n",
              "\n",
              "    .dataframe thead th {\n",
              "        text-align: right;\n",
              "    }\n",
              "</style>\n",
              "<table border=\"1\" class=\"dataframe\">\n",
              "  <thead>\n",
              "    <tr style=\"text-align: right;\">\n",
              "      <th></th>\n",
              "      <th>pageviews</th>\n",
              "    </tr>\n",
              "    <tr>\n",
              "      <th>ProdutoId</th>\n",
              "      <th></th>\n",
              "    </tr>\n",
              "  </thead>\n",
              "  <tbody>\n",
              "    <tr>\n",
              "      <th>Sem Produto</th>\n",
              "      <td>214456</td>\n",
              "    </tr>\n",
              "    <tr>\n",
              "      <th>a0W6A000009GZdgUAG</th>\n",
              "      <td>9227</td>\n",
              "    </tr>\n",
              "    <tr>\n",
              "      <th>a0W6A000009L0FgUAK</th>\n",
              "      <td>1941</td>\n",
              "    </tr>\n",
              "    <tr>\n",
              "      <th>a0W6A000008FwYQUA0</th>\n",
              "      <td>1114</td>\n",
              "    </tr>\n",
              "    <tr>\n",
              "      <th>a0W6A000009KycOUAS</th>\n",
              "      <td>1000</td>\n",
              "    </tr>\n",
              "  </tbody>\n",
              "</table>\n",
              "</div>"
            ],
            "text/plain": [
              "                    pageviews\n",
              "ProdutoId                    \n",
              "Sem Produto            214456\n",
              "a0W6A000009GZdgUAG       9227\n",
              "a0W6A000009L0FgUAK       1941\n",
              "a0W6A000008FwYQUA0       1114\n",
              "a0W6A000009KycOUAS       1000"
            ]
          },
          "metadata": {
            "tags": []
          },
          "execution_count": 12
        }
      ]
    },
    {
      "cell_type": "code",
      "metadata": {
        "id": "LFNxS92blSZ6",
        "colab_type": "code",
        "outputId": "9c72371c-b5fd-40c9-c14f-ba4ac7668d35",
        "colab": {
          "base_uri": "https://localhost:8080/",
          "height": 1000
        }
      },
      "source": [
        "df_cliente_produto_navegacao = pd.merge(df_cliente_produto, df_Navegacao_produto, how='right', left_on='ProdutoId', right_on='ProdutoId')\n",
        "df_cliente_produto_navegacao.columns.to_list()"
      ],
      "execution_count": 0,
      "outputs": [
        {
          "output_type": "execute_result",
          "data": {
            "text/plain": [
              "['Unnamed: 0_x',\n",
              " 'userid',\n",
              " 'idade',\n",
              " 'genero',\n",
              " 'estadocivil',\n",
              " 'billingcity',\n",
              " 'profissaopessoa',\n",
              " 'patrimonioautomoveis',\n",
              " 'patrimonioimoveis',\n",
              " 'patrimonioinvestimentos',\n",
              " 'patrimoniooutros',\n",
              " 'produto',\n",
              " 'valorrendimento',\n",
              " 'dataefetivacao',\n",
              " 'nivelconhecimentoatual',\n",
              " 'scorenivelconhecimento',\n",
              " 'perfilinvestidor',\n",
              " 'rendamensal',\n",
              " 'valorpatrimonio',\n",
              " 'pergunta1',\n",
              " 'resposta11',\n",
              " 'pergunta2',\n",
              " 'resposta21',\n",
              " 'pergunta3',\n",
              " 'resposta31',\n",
              " 'pergunta4',\n",
              " 'resposta41',\n",
              " 'pergunta5',\n",
              " 'resposta51',\n",
              " 'resposta52',\n",
              " 'resposta53',\n",
              " 'resposta54',\n",
              " 'resposta55',\n",
              " 'resposta56',\n",
              " 'resposta57',\n",
              " 'resposta58',\n",
              " 'pergunta6',\n",
              " 'resposta61',\n",
              " 'resposta62',\n",
              " 'resposta63',\n",
              " 'resposta64',\n",
              " 'resposta65',\n",
              " 'resposta66',\n",
              " 'resposta67',\n",
              " 'resposta68',\n",
              " 'pergunta7',\n",
              " 'resposta71',\n",
              " 'resposta72',\n",
              " 'resposta73',\n",
              " 'resposta74',\n",
              " 'resposta75',\n",
              " 'pergunta8',\n",
              " 'resposta81',\n",
              " 'pergunta9',\n",
              " 'resposta91',\n",
              " 'scorerisco',\n",
              " 'scoreobjetivos',\n",
              " 'scoresituacaofinanceira',\n",
              " 'createddate',\n",
              " 'dataclienteefetivado',\n",
              " 'Unnamed: 0_y',\n",
              " 'AdministradorFundo__c',\n",
              " 'AtivoDisponivel__c',\n",
              " 'Carencia__c',\n",
              " 'CarteiraCNPJ__c',\n",
              " 'CNPJAdministrador__c',\n",
              " 'DataDeVencimento__c',\n",
              " 'DescontoIR__c',\n",
              " 'DescricaoAtivo__c',\n",
              " 'DescricaoCarencia__c',\n",
              " 'DescricaoClasse__c',\n",
              " 'DescricaoCotizacaoAplicacao__c',\n",
              " 'DescricaoCotizacaoResgate__c',\n",
              " 'DescricaoEmissor__c',\n",
              " 'DescricaoIndexador__c',\n",
              " 'DescricaoIndiceBenchmark__c',\n",
              " 'DescricaoLiquidacaoAplicacao__c',\n",
              " 'DescricaoLiquidacaoResgate__c',\n",
              " 'DescricaoProduto__c',\n",
              " 'DescricaoTaxaPerformance__c',\n",
              " 'DescricaoTributacaoProduto__c',\n",
              " 'DescricaoTributacao__c',\n",
              " 'DiasUteisParaResgate__c',\n",
              " 'DiasVencimento__c',\n",
              " 'FamiliaCarteira__c',\n",
              " 'FiltroValorMinimo__c',\n",
              " 'GestorFundo__c',\n",
              " 'ProdutoId',\n",
              " 'Inativo__c',\n",
              " 'LucroMesAnterior__c',\n",
              " 'NDiasCotizacaoAplicacao__c',\n",
              " 'NomeAdministrador__c',\n",
              " 'NomeCompleto__c',\n",
              " 'NomeEmissor__c',\n",
              " 'NomeIndexador__c',\n",
              " 'NomeInvestimento__c',\n",
              " 'NomeProduto__c',\n",
              " 'Nome__c',\n",
              " 'NrDiasUteisCotizacaoResgate__c',\n",
              " 'NrDiasUteisLiqFAplicacao__c',\n",
              " 'NrDiasUteisLiqFResgate__c',\n",
              " 'PatrimonioLiquidoAtual__c',\n",
              " 'PercentualIndexador__c',\n",
              " 'PrazoCarencia__c',\n",
              " 'PrazoDias__c',\n",
              " 'PrecoUnitario__c',\n",
              " 'QuantidadeAvaliacoes__c',\n",
              " 'QuantidadeConsumida__c',\n",
              " 'Rentabilidade12Meses__c',\n",
              " 'RentabilidadeAno__c',\n",
              " 'RentabilidadeFundoUltimos36Meses__c',\n",
              " 'RentabilidadeIndiceBenchmarkAno__c',\n",
              " 'RentabilidadeIndiceBenchmarkMes__c',\n",
              " 'RentabilidadeIndiceBenchmarkUlt12__c',\n",
              " 'RentabilidadeIndiceBenchmarkUlt36__c',\n",
              " 'RentabilidadeInicioFundo__c',\n",
              " 'RentabilidadeMes__c',\n",
              " 'RentabilidadeUltimos12Meses__c',\n",
              " 'ResgateDias__c',\n",
              " 'RiscoAtivo__c',\n",
              " 'SaldoMinimoPermanencia__c',\n",
              " 'SeFGCAtivo__c',\n",
              " 'SeIRAtivo__c',\n",
              " 'StatusCarteira__c',\n",
              " 'Status__c',\n",
              " 'TaxaAdministracaoFixa__c',\n",
              " 'TaxaAdministracaoMaxima__c',\n",
              " 'TaxaAdministracaoMinima__c',\n",
              " 'TaxaAdm__c',\n",
              " 'TaxaCliente__c',\n",
              " 'TaxaEmissao__c',\n",
              " 'TaxaNegociada360__c',\n",
              " 'TaxaPerformance__c',\n",
              " 'TaxaPreCliente__c',\n",
              " 'TaxaPreEmissao__c',\n",
              " 'Taxa__c',\n",
              " 'TipoCarteira__c',\n",
              " 'TipoCota__c',\n",
              " 'TipoIndexador__c',\n",
              " 'TipoRegimeCondomonioCVM__c',\n",
              " 'Tributacao__c',\n",
              " 'ValorMinimoAplicacaoAdicional__c',\n",
              " 'ValorMinimoAplicaInicial__c',\n",
              " 'ValorMinimoResgate__c',\n",
              " 'ValorMinimo__c',\n",
              " 'Vencimento__c',\n",
              " 'pageviews']"
            ]
          },
          "metadata": {
            "tags": []
          },
          "execution_count": 67
        }
      ]
    },
    {
      "cell_type": "code",
      "metadata": {
        "id": "DzrDpHsLhrwI",
        "colab_type": "code",
        "outputId": "6860315a-4c3f-4b6c-e282-1623a0fe4f61",
        "colab": {
          "base_uri": "https://localhost:8080/",
          "height": 296
        }
      },
      "source": [
        "### de acordo com as respostas será montada uma base\n",
        "\n",
        "df_resposta_produto = df_cliente_produto_navegacao[['resposta11','resposta21','resposta31','resposta41','resposta51','resposta61','resposta71','resposta81','resposta91','ProdutoId','userid']]\n",
        "\n",
        "sns.boxplot(df_resposta_produto['ProdutoId'].value_counts().sort_values(ascending=False))"
      ],
      "execution_count": 0,
      "outputs": [
        {
          "output_type": "execute_result",
          "data": {
            "text/plain": [
              "<matplotlib.axes._subplots.AxesSubplot at 0x7fe546826eb8>"
            ]
          },
          "metadata": {
            "tags": []
          },
          "execution_count": 76
        },
        {
          "output_type": "display_data",
          "data": {
            "image/png": "[encoded data removed]",
            "text/plain": [
              "<Figure size 432x288 with 1 Axes>"
            ]
          },
          "metadata": {
            "tags": []
          }
        }
      ]
    },
    {
      "cell_type": "code",
      "metadata": {
        "id": "Ku-b0nZe52j7",
        "colab_type": "code",
        "outputId": "5063224a-3aa1-454c-c5fd-c08725608bed",
        "colab": {
          "base_uri": "https://localhost:8080/",
          "height": 51
        }
      },
      "source": [
        "###manter na base somente produtos com mais de 1000 users\n",
        "\n",
        "acima_1000 = df_resposta_produto['ProdutoId'].value_counts()[df_resposta_produto['ProdutoId'].value_counts()>1000].index\n",
        "print(len(acima_1000))\n",
        "df_resposta_produto = df_resposta_produto[df_resposta_produto['ProdutoId'].isin(acima_1000)]\n",
        "df_resposta_produto.shape"
      ],
      "execution_count": 0,
      "outputs": [
        {
          "output_type": "stream",
          "text": [
            "5\n"
          ],
          "name": "stdout"
        },
        {
          "output_type": "execute_result",
          "data": {
            "text/plain": [
              "(28125, 8)"
            ]
          },
          "metadata": {
            "tags": []
          },
          "execution_count": 77
        }
      ]
    },
    {
      "cell_type": "code",
      "metadata": {
        "id": "8smIK3e-Zt1l",
        "colab_type": "code",
        "outputId": "01fe074c-b41a-4a7f-cbbc-e0d72885f2e4",
        "colab": {
          "base_uri": "https://localhost:8080/",
          "height": 413
        }
      },
      "source": [
        "### verificando o total de nulos\n",
        "graf = sns.heatmap(df_resposta_produto.isnull(), cbar=False)\n",
        "graf.set_title('Nulos base final')"
      ],
      "execution_count": 0,
      "outputs": [
        {
          "output_type": "execute_result",
          "data": {
            "text/plain": [
              "Text(0.5, 1.0, 'Nulos base final')"
            ]
          },
          "metadata": {
            "tags": []
          },
          "execution_count": 78
        },
        {
          "output_type": "display_data",
          "data": {
            "image/png": "[encoded data removed]",
            "text/plain": [
              "<Figure size 432x288 with 1 Axes>"
            ]
          },
          "metadata": {
            "tags": []
          }
        }
      ]
    },
    {
      "cell_type": "code",
      "metadata": {
        "id": "bWYZ0rtUA1OP",
        "colab_type": "code",
        "outputId": "b338538b-d472-49b8-95bf-afbadda5442d",
        "colab": {
          "base_uri": "https://localhost:8080/",
          "height": 413
        }
      },
      "source": [
        "#### insere 0 para os nulos\n",
        "df_resposta_produto.fillna(0, inplace=True)\n",
        "graf = sns.heatmap(df_resposta_produto.isnull(), cbar=False)\n",
        "graf.set_title('Nulos base final')"
      ],
      "execution_count": 0,
      "outputs": [
        {
          "output_type": "execute_result",
          "data": {
            "text/plain": [
              "Text(0.5, 1.0, 'Nulos base final')"
            ]
          },
          "metadata": {
            "tags": []
          },
          "execution_count": 79
        },
        {
          "output_type": "display_data",
          "data": {
            "image/png": "[encoded data removed]",
            "text/plain": [
              "<Figure size 432x288 with 1 Axes>"
            ]
          },
          "metadata": {
            "tags": []
          }
        }
      ]
    },
    {
      "cell_type": "code",
      "metadata": {
        "id": "f4YzeqKPZHIz",
        "colab_type": "code",
        "colab": {}
      },
      "source": [
        "### One hot encoding da base\n",
        "df_resposta = pd.get_dummies(df_resposta_produto, columns= ['resposta11','resposta21','resposta31','resposta41','resposta51','resposta61','resposta71','resposta81','resposta91'])\n",
        "df_resposta.shape\n",
        "### Construir o modelo de árvore de decisao\n",
        "y = df_resposta[['ProdutoId']]\n",
        "X = df_resposta.drop(['ProdutoId','userid'], axis=1)\n",
        "\n",
        "X_train, X_test, y_train, y_test = train_test_split(X, y, test_size=0.3, random_state=777) # 70% training and 30% test"
      ],
      "execution_count": 0,
      "outputs": []
    },
    {
      "cell_type": "code",
      "metadata": {
        "id": "xG9oKlw5aBhD",
        "colab_type": "code",
        "colab": {}
      },
      "source": [
        "### Treinamento da árvore de decisao\n",
        "clf = DecisionTreeClassifier(criterion='entropy', random_state=777)\n",
        "\n",
        "# Train Decision Tree Classifer\n",
        "clf = clf.fit(X_train,y_train)\n",
        "\n",
        "#Predict the response for test dataset\n",
        "y_pred = clf.predict(X_test)"
      ],
      "execution_count": 0,
      "outputs": []
    },
    {
      "cell_type": "code",
      "metadata": {
        "id": "kbeg3JgGdylu",
        "colab_type": "code",
        "outputId": "8e034172-5c41-43fe-b0d6-4066de504172",
        "colab": {
          "base_uri": "https://localhost:8080/",
          "height": 34
        }
      },
      "source": [
        "# Model Accuracy, how often is the classifier correct?\n",
        "print(\"Accuracy:\",metrics.accuracy_score(y_test, y_pred))"
      ],
      "execution_count": 0,
      "outputs": [
        {
          "output_type": "stream",
          "text": [
            "Accuracy: 0.623844512917753\n"
          ],
          "name": "stdout"
        }
      ]
    },
    {
      "cell_type": "code",
      "metadata": {
        "id": "hJBETeZ0fQ-m",
        "colab_type": "code",
        "outputId": "fe35ace4-6e9c-48f8-cd34-19acece0d5ed",
        "colab": {
          "base_uri": "https://localhost:8080/",
          "height": 296
        }
      },
      "source": [
        "matriz = confusion_matrix(y_test, y_pred)\n",
        "conf_mat_normalized = matriz.astype('float') / matriz.sum(axis=1)[:, np.newaxis]\n",
        "sns.heatmap(conf_mat_normalized)\n",
        "plt.ylabel('Produto Real')\n",
        "plt.xlabel('Produto Previsto')"
      ],
      "execution_count": 0,
      "outputs": [
        {
          "output_type": "execute_result",
          "data": {
            "text/plain": [
              "Text(0.5, 15.0, 'Produto Previsto')"
            ]
          },
          "metadata": {
            "tags": []
          },
          "execution_count": 102
        },
        {
          "output_type": "display_data",
          "data": {
            "image/png": "[encoded data removed]",
            "text/plain": [
              "<Figure size 432x288 with 2 Axes>"
            ]
          },
          "metadata": {
            "tags": []
          }
        }
      ]
    },
    {
      "cell_type": "code",
      "metadata": {
        "id": "OVvV1CNv8VLs",
        "colab_type": "code",
        "colab": {}
      },
      "source": [
        "pass"
      ],
      "execution_count": 0,
      "outputs": []
    },
    {
      "cell_type": "code",
      "metadata": {
        "id": "t-ZewlKI-cUa",
        "colab_type": "code",
        "colab": {}
      },
      "source": [
        "pass"
      ],
      "execution_count": 0,
      "outputs": []
    },
    {
      "cell_type": "code",
      "metadata": {
        "id": "EtW0z6sV_w18",
        "colab_type": "code",
        "colab": {}
      },
      "source": [
        "pass"
      ],
      "execution_count": 0,
      "outputs": []
    },
    {
      "cell_type": "code",
      "metadata": {
        "id": "8Vx118Jn_05_",
        "colab_type": "code",
        "colab": {}
      },
      "source": [
        "pass"
      ],
      "execution_count": 0,
      "outputs": []
    },
    {
      "cell_type": "code",
      "metadata": {
        "id": "RsKJIBBgvOXW",
        "colab_type": "code",
        "colab": {}
      },
      "source": [
        "\n",
        "\n"
      ],
      "execution_count": 0,
      "outputs": []
    },
    {
      "cell_type": "code",
      "metadata": {
        "id": "kDa5nBKDCPrR",
        "colab_type": "code",
        "colab": {}
      },
      "source": [
        "pass"
      ],
      "execution_count": 0,
      "outputs": []
    },
    {
      "cell_type": "code",
      "metadata": {
        "id": "Hmhzjs5rHD1r",
        "colab_type": "code",
        "colab": {}
      },
      "source": [
        "# save the model to disk\n",
        "filename = 'modelo01.sav'\n",
        "pickle.dump(model1, open(filename, 'wb'))\n"
      ],
      "execution_count": 0,
      "outputs": []
    },
    {
      "cell_type": "code",
      "metadata": {
        "id": "SrmDlt0UHSZp",
        "colab_type": "code",
        "colab": {}
      },
      "source": [
        "# load the model from disk\n",
        "loaded_model = pickle.load(open(filename, 'rb'))\n",
        "result = loaded_model.score(X_test, Y_test)\n",
        "print(result)"
      ],
      "execution_count": 0,
      "outputs": []
    },
    {
      "cell_type": "code",
      "metadata": {
        "id": "wj1t-csMCr_P",
        "colab_type": "code",
        "colab": {}
      },
      "source": [
        "def plot_dendrogram(model, **kwargs):\n",
        "    # Create linkage matrix and then plot the dendrogram\n",
        "\n",
        "    # create the counts of samples under each node\n",
        "    counts = np.zeros(model.children_.shape[0])\n",
        "    n_samples = len(model.labels_)\n",
        "    for i, merge in enumerate(model.children_):\n",
        "        current_count = 0\n",
        "        for child_idx in merge:\n",
        "            if child_idx < n_samples:\n",
        "                current_count += 1  # leaf node\n",
        "            else:\n",
        "                current_count += counts[child_idx - n_samples]\n",
        "        counts[i] = current_count\n",
        "\n",
        "    linkage_matrix = np.column_stack([model.children_, model.distances_,\n",
        "                                      counts]).astype(float)\n",
        "\n",
        "    # Plot the corresponding dendrogram\n",
        "    dendrogram(linkage_matrix, **kwargs)"
      ],
      "execution_count": 0,
      "outputs": []
    },
    {
      "cell_type": "code",
      "metadata": {
        "id": "9rkxPnczELZe",
        "colab_type": "code",
        "outputId": "2a0a2fed-2f9b-4639-cbe8-ebdc3723747b",
        "colab": {
          "base_uri": "https://localhost:8080/",
          "height": 333
        }
      },
      "source": [
        "plt.title('Hierarchical Clustering Dendrogram - VARIAVEIS NUMERICAS')\n",
        "# plot the top three levels of the dendrogram\n",
        "plot_dendrogram(model1, truncate_mode='level', p=3)\n",
        "plt.xlabel(\"Number of points in node (or index of point if no parenthesis).\")\n",
        "plt.xticks(rotation=90)\n",
        "plt.show()"
      ],
      "execution_count": 0,
      "outputs": [
        {
          "output_type": "display_data",
          "data": {
            "image/png": "[encoded data removed]",
            "text/plain": [
              "<Figure size 432x288 with 1 Axes>"
            ]
          },
          "metadata": {
            "tags": []
          }
        }
      ]
    },
    {
      "cell_type": "code",
      "metadata": {
        "id": "w-dsNNfWrhfI",
        "colab_type": "code",
        "colab": {}
      },
      "source": [
        ""
      ],
      "execution_count": 0,
      "outputs": []
    }
  ]
}